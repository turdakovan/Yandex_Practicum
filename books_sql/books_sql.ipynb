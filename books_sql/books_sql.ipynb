{
 "cells": [
  {
   "cell_type": "markdown",
   "metadata": {},
   "source": [
    "## Описание проекта"
   ]
  },
  {
   "cell_type": "markdown",
   "metadata": {},
   "source": [
    "Проект по SQL\n",
    "\n",
    "Коронавирус застал мир врасплох, изменив привычный порядок вещей. В свободное время жители городов больше не выходят на улицу, не посещают кафе и торговые центры. Зато стало больше времени для книг. Это заметили стартаперы — и бросились создавать приложения для тех, кто любит читать.\n",
    "\n",
    "Ваша компания решила быть на волне и купила крупный сервис для чтения книг по подписке. Ваша первая задача как аналитика — проанализировать базу данных. В ней — информация о книгах, издательствах, авторах, а также пользовательские обзоры книг. Эти данные помогут сформулировать ценностное предложение для нового продукта."
   ]
  },
  {
   "cell_type": "markdown",
   "metadata": {},
   "source": [
    "### Описание данных"
   ]
  },
  {
   "cell_type": "markdown",
   "metadata": {},
   "source": [
    "Таблица `books`\n",
    "\n",
    "Содержит данные о книгах:\n",
    "* `book_id` — идентификатор книги;\n",
    "* `author_id` — идентификатор автора;\n",
    "* `title` — название книги;\n",
    "* `num_pages` — количество страниц;\n",
    "* `publication_date` — дата публикации книги;\n",
    "* `publisher_id` — идентификатор издателя.\n",
    "\n",
    "Таблица `authors`\n",
    "\n",
    "Содержит данные об авторах:\n",
    "* `author_id` — идентификатор автора;\n",
    "* `author` — имя автора.\n",
    "\n",
    "Таблица `publishers`\n",
    "\n",
    "Содержит данные об издательствах:\n",
    "* `publisher_id` — идентификатор издательства;\n",
    "* `publisher` — название издательства;\n",
    "\n",
    "Таблица `ratings`\n",
    "\n",
    "Содержит данные о пользовательских оценках книг:\n",
    "* `rating_id` — идентификатор оценки;\n",
    "* `book_id` — идентификатор книги;\n",
    "* `username` — имя пользователя, оставившего оценку;\n",
    "* `rating` — оценка книги.\n",
    "\n",
    "Таблица `reviews`\n",
    "\n",
    "Содержит данные о пользовательских обзорах:\n",
    "* `review_id` — идентификатор обзора;\n",
    "* `book_id` — идентификатор книги;\n",
    "* `username` — имя автора обзора;\n",
    "* `text` — текст обзора."
   ]
  },
  {
   "cell_type": "code",
   "execution_count": 1,
   "metadata": {},
   "outputs": [],
   "source": [
    "import pandas as pd\n",
    "from sqlalchemy import create_engine"
   ]
  },
  {
   "cell_type": "code",
   "execution_count": 2,
   "metadata": {},
   "outputs": [],
   "source": [
    "# устанавливаем параметры \n",
    "db_config = {'user': 'praktikum_student', # имя пользователя\n",
    "             'pwd': 'Sdf4$2;d-d30pp', # пароль\n",
    "             'host': 'rc1b-wcoijxj3yxfsf3fs.mdb.yandexcloud.net',\n",
    "             'port': 6432, # порт подключения                      \n",
    "             'db': 'data-analyst-final-project-db'} # название базы данных \n",
    "\n",
    "\n",
    "connection_string = 'postgresql://{}:{}@{}:{}/{}'.format(db_config['user'],\n",
    "                                                         db_config['pwd'],                                                                         \n",
    "                                                         db_config['host'],                                                                                     \n",
    "                                                         db_config['port'],                                                                                     \n",
    "                                                         db_config['db']) \n",
    "\n",
    "# сохраняем коннектор \n",
    "engine = create_engine(connection_string, connect_args={'sslmode':'require'}) "
   ]
  },
  {
   "cell_type": "markdown",
   "metadata": {},
   "source": [
    "## Исследование таблиц"
   ]
  },
  {
   "cell_type": "markdown",
   "metadata": {},
   "source": [
    "Выведем 5 сток таблицы books"
   ]
  },
  {
   "cell_type": "code",
   "execution_count": 3,
   "metadata": {},
   "outputs": [
    {
     "data": {
      "text/html": [
       "<div>\n",
       "<style scoped>\n",
       "    .dataframe tbody tr th:only-of-type {\n",
       "        vertical-align: middle;\n",
       "    }\n",
       "\n",
       "    .dataframe tbody tr th {\n",
       "        vertical-align: top;\n",
       "    }\n",
       "\n",
       "    .dataframe thead th {\n",
       "        text-align: right;\n",
       "    }\n",
       "</style>\n",
       "<table border=\"1\" class=\"dataframe\">\n",
       "  <thead>\n",
       "    <tr style=\"text-align: right;\">\n",
       "      <th></th>\n",
       "      <th>book_id</th>\n",
       "      <th>author_id</th>\n",
       "      <th>title</th>\n",
       "      <th>num_pages</th>\n",
       "      <th>publication_date</th>\n",
       "      <th>publisher_id</th>\n",
       "    </tr>\n",
       "  </thead>\n",
       "  <tbody>\n",
       "    <tr>\n",
       "      <th>0</th>\n",
       "      <td>1</td>\n",
       "      <td>546</td>\n",
       "      <td>'Salem's Lot</td>\n",
       "      <td>594</td>\n",
       "      <td>2005-11-01</td>\n",
       "      <td>93</td>\n",
       "    </tr>\n",
       "    <tr>\n",
       "      <th>1</th>\n",
       "      <td>2</td>\n",
       "      <td>465</td>\n",
       "      <td>1 000 Places to See Before You Die</td>\n",
       "      <td>992</td>\n",
       "      <td>2003-05-22</td>\n",
       "      <td>336</td>\n",
       "    </tr>\n",
       "    <tr>\n",
       "      <th>2</th>\n",
       "      <td>3</td>\n",
       "      <td>407</td>\n",
       "      <td>13 Little Blue Envelopes (Little Blue Envelope...</td>\n",
       "      <td>322</td>\n",
       "      <td>2010-12-21</td>\n",
       "      <td>135</td>\n",
       "    </tr>\n",
       "    <tr>\n",
       "      <th>3</th>\n",
       "      <td>4</td>\n",
       "      <td>82</td>\n",
       "      <td>1491: New Revelations of the Americas Before C...</td>\n",
       "      <td>541</td>\n",
       "      <td>2006-10-10</td>\n",
       "      <td>309</td>\n",
       "    </tr>\n",
       "    <tr>\n",
       "      <th>4</th>\n",
       "      <td>5</td>\n",
       "      <td>125</td>\n",
       "      <td>1776</td>\n",
       "      <td>386</td>\n",
       "      <td>2006-07-04</td>\n",
       "      <td>268</td>\n",
       "    </tr>\n",
       "  </tbody>\n",
       "</table>\n",
       "</div>"
      ],
      "text/plain": [
       "   book_id  author_id                                              title  \\\n",
       "0        1        546                                       'Salem's Lot   \n",
       "1        2        465                 1 000 Places to See Before You Die   \n",
       "2        3        407  13 Little Blue Envelopes (Little Blue Envelope...   \n",
       "3        4         82  1491: New Revelations of the Americas Before C...   \n",
       "4        5        125                                               1776   \n",
       "\n",
       "   num_pages publication_date  publisher_id  \n",
       "0        594       2005-11-01            93  \n",
       "1        992       2003-05-22           336  \n",
       "2        322       2010-12-21           135  \n",
       "3        541       2006-10-10           309  \n",
       "4        386       2006-07-04           268  "
      ]
     },
     "execution_count": 3,
     "metadata": {},
     "output_type": "execute_result"
    }
   ],
   "source": [
    "query = \"\"\"SELECT * FROM books\"\"\"\n",
    "\n",
    "pd.io.sql.read_sql(query, con = engine).head()"
   ]
  },
  {
   "cell_type": "markdown",
   "metadata": {},
   "source": [
    "Выведем 5 сток таблицы authors"
   ]
  },
  {
   "cell_type": "code",
   "execution_count": 4,
   "metadata": {},
   "outputs": [
    {
     "data": {
      "text/html": [
       "<div>\n",
       "<style scoped>\n",
       "    .dataframe tbody tr th:only-of-type {\n",
       "        vertical-align: middle;\n",
       "    }\n",
       "\n",
       "    .dataframe tbody tr th {\n",
       "        vertical-align: top;\n",
       "    }\n",
       "\n",
       "    .dataframe thead th {\n",
       "        text-align: right;\n",
       "    }\n",
       "</style>\n",
       "<table border=\"1\" class=\"dataframe\">\n",
       "  <thead>\n",
       "    <tr style=\"text-align: right;\">\n",
       "      <th></th>\n",
       "      <th>author_id</th>\n",
       "      <th>author</th>\n",
       "    </tr>\n",
       "  </thead>\n",
       "  <tbody>\n",
       "    <tr>\n",
       "      <th>0</th>\n",
       "      <td>1</td>\n",
       "      <td>A.S. Byatt</td>\n",
       "    </tr>\n",
       "    <tr>\n",
       "      <th>1</th>\n",
       "      <td>2</td>\n",
       "      <td>Aesop/Laura Harris/Laura Gibbs</td>\n",
       "    </tr>\n",
       "    <tr>\n",
       "      <th>2</th>\n",
       "      <td>3</td>\n",
       "      <td>Agatha Christie</td>\n",
       "    </tr>\n",
       "    <tr>\n",
       "      <th>3</th>\n",
       "      <td>4</td>\n",
       "      <td>Alan Brennert</td>\n",
       "    </tr>\n",
       "    <tr>\n",
       "      <th>4</th>\n",
       "      <td>5</td>\n",
       "      <td>Alan Moore/David   Lloyd</td>\n",
       "    </tr>\n",
       "  </tbody>\n",
       "</table>\n",
       "</div>"
      ],
      "text/plain": [
       "   author_id                          author\n",
       "0          1                      A.S. Byatt\n",
       "1          2  Aesop/Laura Harris/Laura Gibbs\n",
       "2          3                 Agatha Christie\n",
       "3          4                   Alan Brennert\n",
       "4          5        Alan Moore/David   Lloyd"
      ]
     },
     "execution_count": 4,
     "metadata": {},
     "output_type": "execute_result"
    }
   ],
   "source": [
    "query = \"\"\"SELECT * FROM authors\"\"\"\n",
    "\n",
    "pd.io.sql.read_sql(query, con = engine).head()"
   ]
  },
  {
   "cell_type": "markdown",
   "metadata": {},
   "source": [
    "Выведем 5 сток таблицы publishers"
   ]
  },
  {
   "cell_type": "code",
   "execution_count": 5,
   "metadata": {},
   "outputs": [
    {
     "data": {
      "text/html": [
       "<div>\n",
       "<style scoped>\n",
       "    .dataframe tbody tr th:only-of-type {\n",
       "        vertical-align: middle;\n",
       "    }\n",
       "\n",
       "    .dataframe tbody tr th {\n",
       "        vertical-align: top;\n",
       "    }\n",
       "\n",
       "    .dataframe thead th {\n",
       "        text-align: right;\n",
       "    }\n",
       "</style>\n",
       "<table border=\"1\" class=\"dataframe\">\n",
       "  <thead>\n",
       "    <tr style=\"text-align: right;\">\n",
       "      <th></th>\n",
       "      <th>publisher_id</th>\n",
       "      <th>publisher</th>\n",
       "    </tr>\n",
       "  </thead>\n",
       "  <tbody>\n",
       "    <tr>\n",
       "      <th>0</th>\n",
       "      <td>1</td>\n",
       "      <td>Ace</td>\n",
       "    </tr>\n",
       "    <tr>\n",
       "      <th>1</th>\n",
       "      <td>2</td>\n",
       "      <td>Ace Book</td>\n",
       "    </tr>\n",
       "    <tr>\n",
       "      <th>2</th>\n",
       "      <td>3</td>\n",
       "      <td>Ace Books</td>\n",
       "    </tr>\n",
       "    <tr>\n",
       "      <th>3</th>\n",
       "      <td>4</td>\n",
       "      <td>Ace Hardcover</td>\n",
       "    </tr>\n",
       "    <tr>\n",
       "      <th>4</th>\n",
       "      <td>5</td>\n",
       "      <td>Addison Wesley Publishing Company</td>\n",
       "    </tr>\n",
       "  </tbody>\n",
       "</table>\n",
       "</div>"
      ],
      "text/plain": [
       "   publisher_id                          publisher\n",
       "0             1                                Ace\n",
       "1             2                           Ace Book\n",
       "2             3                          Ace Books\n",
       "3             4                      Ace Hardcover\n",
       "4             5  Addison Wesley Publishing Company"
      ]
     },
     "execution_count": 5,
     "metadata": {},
     "output_type": "execute_result"
    }
   ],
   "source": [
    "query = \"\"\"SELECT * FROM publishers\"\"\"\n",
    "\n",
    "pd.io.sql.read_sql(query, con = engine).head()"
   ]
  },
  {
   "cell_type": "markdown",
   "metadata": {},
   "source": [
    "Выведем 5 сток таблицы ratings"
   ]
  },
  {
   "cell_type": "code",
   "execution_count": 6,
   "metadata": {},
   "outputs": [
    {
     "data": {
      "text/html": [
       "<div>\n",
       "<style scoped>\n",
       "    .dataframe tbody tr th:only-of-type {\n",
       "        vertical-align: middle;\n",
       "    }\n",
       "\n",
       "    .dataframe tbody tr th {\n",
       "        vertical-align: top;\n",
       "    }\n",
       "\n",
       "    .dataframe thead th {\n",
       "        text-align: right;\n",
       "    }\n",
       "</style>\n",
       "<table border=\"1\" class=\"dataframe\">\n",
       "  <thead>\n",
       "    <tr style=\"text-align: right;\">\n",
       "      <th></th>\n",
       "      <th>rating_id</th>\n",
       "      <th>book_id</th>\n",
       "      <th>username</th>\n",
       "      <th>rating</th>\n",
       "    </tr>\n",
       "  </thead>\n",
       "  <tbody>\n",
       "    <tr>\n",
       "      <th>0</th>\n",
       "      <td>1</td>\n",
       "      <td>1</td>\n",
       "      <td>ryanfranco</td>\n",
       "      <td>4</td>\n",
       "    </tr>\n",
       "    <tr>\n",
       "      <th>1</th>\n",
       "      <td>2</td>\n",
       "      <td>1</td>\n",
       "      <td>grantpatricia</td>\n",
       "      <td>2</td>\n",
       "    </tr>\n",
       "    <tr>\n",
       "      <th>2</th>\n",
       "      <td>3</td>\n",
       "      <td>1</td>\n",
       "      <td>brandtandrea</td>\n",
       "      <td>5</td>\n",
       "    </tr>\n",
       "    <tr>\n",
       "      <th>3</th>\n",
       "      <td>4</td>\n",
       "      <td>2</td>\n",
       "      <td>lorichen</td>\n",
       "      <td>3</td>\n",
       "    </tr>\n",
       "    <tr>\n",
       "      <th>4</th>\n",
       "      <td>5</td>\n",
       "      <td>2</td>\n",
       "      <td>mariokeller</td>\n",
       "      <td>2</td>\n",
       "    </tr>\n",
       "  </tbody>\n",
       "</table>\n",
       "</div>"
      ],
      "text/plain": [
       "   rating_id  book_id       username  rating\n",
       "0          1        1     ryanfranco       4\n",
       "1          2        1  grantpatricia       2\n",
       "2          3        1   brandtandrea       5\n",
       "3          4        2       lorichen       3\n",
       "4          5        2    mariokeller       2"
      ]
     },
     "execution_count": 6,
     "metadata": {},
     "output_type": "execute_result"
    }
   ],
   "source": [
    "query = \"\"\"SELECT * FROM ratings\"\"\"\n",
    "\n",
    "pd.io.sql.read_sql(query, con = engine).head()"
   ]
  },
  {
   "cell_type": "markdown",
   "metadata": {},
   "source": [
    "Выведем 5 сток таблицы reviews"
   ]
  },
  {
   "cell_type": "code",
   "execution_count": 7,
   "metadata": {},
   "outputs": [
    {
     "data": {
      "text/html": [
       "<div>\n",
       "<style scoped>\n",
       "    .dataframe tbody tr th:only-of-type {\n",
       "        vertical-align: middle;\n",
       "    }\n",
       "\n",
       "    .dataframe tbody tr th {\n",
       "        vertical-align: top;\n",
       "    }\n",
       "\n",
       "    .dataframe thead th {\n",
       "        text-align: right;\n",
       "    }\n",
       "</style>\n",
       "<table border=\"1\" class=\"dataframe\">\n",
       "  <thead>\n",
       "    <tr style=\"text-align: right;\">\n",
       "      <th></th>\n",
       "      <th>review_id</th>\n",
       "      <th>book_id</th>\n",
       "      <th>username</th>\n",
       "      <th>text</th>\n",
       "    </tr>\n",
       "  </thead>\n",
       "  <tbody>\n",
       "    <tr>\n",
       "      <th>0</th>\n",
       "      <td>1</td>\n",
       "      <td>1</td>\n",
       "      <td>brandtandrea</td>\n",
       "      <td>Mention society tell send professor analysis. ...</td>\n",
       "    </tr>\n",
       "    <tr>\n",
       "      <th>1</th>\n",
       "      <td>2</td>\n",
       "      <td>1</td>\n",
       "      <td>ryanfranco</td>\n",
       "      <td>Foot glass pretty audience hit themselves. Amo...</td>\n",
       "    </tr>\n",
       "    <tr>\n",
       "      <th>2</th>\n",
       "      <td>3</td>\n",
       "      <td>2</td>\n",
       "      <td>lorichen</td>\n",
       "      <td>Listen treat keep worry. Miss husband tax but ...</td>\n",
       "    </tr>\n",
       "    <tr>\n",
       "      <th>3</th>\n",
       "      <td>4</td>\n",
       "      <td>3</td>\n",
       "      <td>johnsonamanda</td>\n",
       "      <td>Finally month interesting blue could nature cu...</td>\n",
       "    </tr>\n",
       "    <tr>\n",
       "      <th>4</th>\n",
       "      <td>5</td>\n",
       "      <td>3</td>\n",
       "      <td>scotttamara</td>\n",
       "      <td>Nation purpose heavy give wait song will. List...</td>\n",
       "    </tr>\n",
       "  </tbody>\n",
       "</table>\n",
       "</div>"
      ],
      "text/plain": [
       "   review_id  book_id       username  \\\n",
       "0          1        1   brandtandrea   \n",
       "1          2        1     ryanfranco   \n",
       "2          3        2       lorichen   \n",
       "3          4        3  johnsonamanda   \n",
       "4          5        3    scotttamara   \n",
       "\n",
       "                                                text  \n",
       "0  Mention society tell send professor analysis. ...  \n",
       "1  Foot glass pretty audience hit themselves. Amo...  \n",
       "2  Listen treat keep worry. Miss husband tax but ...  \n",
       "3  Finally month interesting blue could nature cu...  \n",
       "4  Nation purpose heavy give wait song will. List...  "
      ]
     },
     "execution_count": 7,
     "metadata": {},
     "output_type": "execute_result"
    }
   ],
   "source": [
    "query = \"\"\"SELECT * FROM reviews\"\"\"\n",
    "\n",
    "pd.io.sql.read_sql(query, con = engine).head()"
   ]
  },
  {
   "cell_type": "markdown",
   "metadata": {},
   "source": [
    "## Задания\n"
   ]
  },
  {
   "cell_type": "markdown",
   "metadata": {},
   "source": [
    "### Посчитаем, сколько книг вышло после 1 января 2000 года"
   ]
  },
  {
   "cell_type": "code",
   "execution_count": 8,
   "metadata": {},
   "outputs": [
    {
     "data": {
      "text/html": [
       "<div>\n",
       "<style scoped>\n",
       "    .dataframe tbody tr th:only-of-type {\n",
       "        vertical-align: middle;\n",
       "    }\n",
       "\n",
       "    .dataframe tbody tr th {\n",
       "        vertical-align: top;\n",
       "    }\n",
       "\n",
       "    .dataframe thead th {\n",
       "        text-align: right;\n",
       "    }\n",
       "</style>\n",
       "<table border=\"1\" class=\"dataframe\">\n",
       "  <thead>\n",
       "    <tr style=\"text-align: right;\">\n",
       "      <th></th>\n",
       "      <th>count_books</th>\n",
       "    </tr>\n",
       "  </thead>\n",
       "  <tbody>\n",
       "    <tr>\n",
       "      <th>0</th>\n",
       "      <td>819</td>\n",
       "    </tr>\n",
       "  </tbody>\n",
       "</table>\n",
       "</div>"
      ],
      "text/plain": [
       "   count_books\n",
       "0          819"
      ]
     },
     "execution_count": 8,
     "metadata": {},
     "output_type": "execute_result"
    }
   ],
   "source": [
    "query = \"\"\"SELECT COUNT(book_id) AS count_books\n",
    "           FROM books\n",
    "           WHERE CAST(publication_date AS TIMESTAMP) > '01-01-2000'\n",
    "           \n",
    "           \"\"\"\n",
    "\n",
    "pd.io.sql.read_sql(query, con = engine).head()"
   ]
  },
  {
   "cell_type": "markdown",
   "metadata": {},
   "source": [
    "Вывод:\n",
    "* После 1 января 2000 года вышло 819 книг"
   ]
  },
  {
   "cell_type": "markdown",
   "metadata": {},
   "source": [
    "### Для каждой книги посчитаем количество обзоров и среднюю оценку"
   ]
  },
  {
   "cell_type": "code",
   "execution_count": 9,
   "metadata": {},
   "outputs": [
    {
     "data": {
      "text/html": [
       "<div>\n",
       "<style scoped>\n",
       "    .dataframe tbody tr th:only-of-type {\n",
       "        vertical-align: middle;\n",
       "    }\n",
       "\n",
       "    .dataframe tbody tr th {\n",
       "        vertical-align: top;\n",
       "    }\n",
       "\n",
       "    .dataframe thead th {\n",
       "        text-align: right;\n",
       "    }\n",
       "</style>\n",
       "<table border=\"1\" class=\"dataframe\">\n",
       "  <thead>\n",
       "    <tr style=\"text-align: right;\">\n",
       "      <th></th>\n",
       "      <th>count_review</th>\n",
       "      <th>avg_rate</th>\n",
       "    </tr>\n",
       "  </thead>\n",
       "  <tbody>\n",
       "    <tr>\n",
       "      <th>0</th>\n",
       "      <td>4</td>\n",
       "      <td>5.0</td>\n",
       "    </tr>\n",
       "    <tr>\n",
       "      <th>1</th>\n",
       "      <td>3</td>\n",
       "      <td>5.0</td>\n",
       "    </tr>\n",
       "    <tr>\n",
       "      <th>2</th>\n",
       "      <td>3</td>\n",
       "      <td>5.0</td>\n",
       "    </tr>\n",
       "    <tr>\n",
       "      <th>3</th>\n",
       "      <td>2</td>\n",
       "      <td>5.0</td>\n",
       "    </tr>\n",
       "    <tr>\n",
       "      <th>4</th>\n",
       "      <td>2</td>\n",
       "      <td>5.0</td>\n",
       "    </tr>\n",
       "  </tbody>\n",
       "</table>\n",
       "</div>"
      ],
      "text/plain": [
       "   count_review  avg_rate\n",
       "0             4       5.0\n",
       "1             3       5.0\n",
       "2             3       5.0\n",
       "3             2       5.0\n",
       "4             2       5.0"
      ]
     },
     "execution_count": 9,
     "metadata": {},
     "output_type": "execute_result"
    }
   ],
   "source": [
    "query = \"\"\"WITH tmp AS (SELECT b.book_id,\n",
    "                               COALESCE(COUNT(review_id), 0) AS count_review\n",
    "                        FROM books AS b\n",
    "                            LEFT JOIN reviews AS rev ON b.book_id = rev.book_id\n",
    "                        GROUP BY b.book_id\n",
    "                        ),\n",
    "                        \n",
    "                        \n",
    "                 tmp2 AS (SELECT b.book_id,\n",
    "                                 COALESCE(AVG(rating), 0) AS avg_rate\n",
    "                          FROM books AS b\n",
    "                              LEFT JOIN ratings AS rat ON b.book_id = rat.book_id\n",
    "                          GROUP BY b.book_id\n",
    "                         )\n",
    "                        \n",
    "                        \n",
    "                SELECT count_review,\n",
    "                       avg_rate\n",
    "                FROM tmp\n",
    "                    JOIN tmp2 ON tmp.book_id = tmp2.book_id\n",
    "                ORDER BY avg_rate DESC, count_review DESC\n",
    "           \n",
    "           \n",
    "           \"\"\"\n",
    "\n",
    "pd.io.sql.read_sql(query, con = engine).head()"
   ]
  },
  {
   "cell_type": "markdown",
   "metadata": {},
   "source": [
    "Вывод:\n",
    "* Самые популярные книги по количеству обзоров и рейтингу - это книги A Dirty Job и School's Out—Forever."
   ]
  },
  {
   "cell_type": "markdown",
   "metadata": {},
   "source": [
    "### Определим издательство, которое выпустило наибольшее число книг толще 50 страниц — так мы исключим из анализа брошюры"
   ]
  },
  {
   "cell_type": "code",
   "execution_count": 10,
   "metadata": {},
   "outputs": [
    {
     "data": {
      "text/html": [
       "<div>\n",
       "<style scoped>\n",
       "    .dataframe tbody tr th:only-of-type {\n",
       "        vertical-align: middle;\n",
       "    }\n",
       "\n",
       "    .dataframe tbody tr th {\n",
       "        vertical-align: top;\n",
       "    }\n",
       "\n",
       "    .dataframe thead th {\n",
       "        text-align: right;\n",
       "    }\n",
       "</style>\n",
       "<table border=\"1\" class=\"dataframe\">\n",
       "  <thead>\n",
       "    <tr style=\"text-align: right;\">\n",
       "      <th></th>\n",
       "      <th>publisher</th>\n",
       "    </tr>\n",
       "  </thead>\n",
       "  <tbody>\n",
       "    <tr>\n",
       "      <th>0</th>\n",
       "      <td>Penguin Books</td>\n",
       "    </tr>\n",
       "  </tbody>\n",
       "</table>\n",
       "</div>"
      ],
      "text/plain": [
       "       publisher\n",
       "0  Penguin Books"
      ]
     },
     "execution_count": 10,
     "metadata": {},
     "output_type": "execute_result"
    }
   ],
   "source": [
    "query = \"\"\"WITH tmp AS (SELECT publisher_id,\n",
    "                               COUNT(book_id) AS count_books\n",
    "                        FROM books\n",
    "                        WHERE num_pages > 50\n",
    "                        GROUP BY publisher_id)\n",
    "\n",
    "\n",
    "            SELECT publisher\n",
    "            FROM tmp\n",
    "                JOIN publishers AS p ON tmp.publisher_id = p.publisher_id\n",
    "            WHERE count_books= (SELECT MAX(count_books) FROM tmp)\n",
    "\n",
    "           \n",
    "           \"\"\"\n",
    "\n",
    "pd.io.sql.read_sql(query, con = engine)"
   ]
  },
  {
   "cell_type": "markdown",
   "metadata": {},
   "source": [
    "Вывод:\n",
    "* Издательство \"Penguin Books\" выпустило наибольшее число книг толще 50 страниц."
   ]
  },
  {
   "cell_type": "markdown",
   "metadata": {},
   "source": [
    "### Определим автора с самой высокой средней оценкой книг — необходимо учитывать только книги с 50 и более оценками"
   ]
  },
  {
   "cell_type": "code",
   "execution_count": 11,
   "metadata": {},
   "outputs": [
    {
     "data": {
      "text/html": [
       "<div>\n",
       "<style scoped>\n",
       "    .dataframe tbody tr th:only-of-type {\n",
       "        vertical-align: middle;\n",
       "    }\n",
       "\n",
       "    .dataframe tbody tr th {\n",
       "        vertical-align: top;\n",
       "    }\n",
       "\n",
       "    .dataframe thead th {\n",
       "        text-align: right;\n",
       "    }\n",
       "</style>\n",
       "<table border=\"1\" class=\"dataframe\">\n",
       "  <thead>\n",
       "    <tr style=\"text-align: right;\">\n",
       "      <th></th>\n",
       "      <th>author</th>\n",
       "    </tr>\n",
       "  </thead>\n",
       "  <tbody>\n",
       "    <tr>\n",
       "      <th>0</th>\n",
       "      <td>J.K. Rowling/Mary GrandPré</td>\n",
       "    </tr>\n",
       "  </tbody>\n",
       "</table>\n",
       "</div>"
      ],
      "text/plain": [
       "                       author\n",
       "0  J.K. Rowling/Mary GrandPré"
      ]
     },
     "execution_count": 11,
     "metadata": {},
     "output_type": "execute_result"
    }
   ],
   "source": [
    "query = \"\"\"WITH tmp AS (SELECT author_id,\n",
    "                               b.book_id,\n",
    "                               AVG(rating) AS avg_rate,\n",
    "                               COUNT(rating_id) AS count_rate\n",
    "                        FROM books AS b\n",
    "                             JOIN ratings AS rat ON b.book_id = rat.book_id\n",
    "                        GROUP BY author_id, b.book_id\n",
    "                        HAVING COUNT(rating_id) >= 50\n",
    "                        )\n",
    "                        \n",
    "                        \n",
    "           SELECT author\n",
    "           FROM tmp\n",
    "                JOIN authors AS a ON tmp.author_id = a.author_id\n",
    "           WHERE avg_rate = (SELECT MAX(avg_rate) FROM tmp)\n",
    "\n",
    "           \"\"\"\n",
    "\n",
    "pd.io.sql.read_sql(query, con = engine)"
   ]
  },
  {
   "cell_type": "markdown",
   "metadata": {},
   "source": [
    "Вывод:\n",
    "* J.K. Rowling/Mary GrandPré - авторы с самой высокой средней оценкой книг, среди книг с 50 и более оценками."
   ]
  },
  {
   "cell_type": "markdown",
   "metadata": {},
   "source": [
    "### Посчитаем среднее количество обзоров от пользователей, которые поставили больше 50 оценок."
   ]
  },
  {
   "cell_type": "code",
   "execution_count": 12,
   "metadata": {},
   "outputs": [
    {
     "data": {
      "text/html": [
       "<div>\n",
       "<style scoped>\n",
       "    .dataframe tbody tr th:only-of-type {\n",
       "        vertical-align: middle;\n",
       "    }\n",
       "\n",
       "    .dataframe tbody tr th {\n",
       "        vertical-align: top;\n",
       "    }\n",
       "\n",
       "    .dataframe thead th {\n",
       "        text-align: right;\n",
       "    }\n",
       "</style>\n",
       "<table border=\"1\" class=\"dataframe\">\n",
       "  <thead>\n",
       "    <tr style=\"text-align: right;\">\n",
       "      <th></th>\n",
       "      <th>avg_review</th>\n",
       "    </tr>\n",
       "  </thead>\n",
       "  <tbody>\n",
       "    <tr>\n",
       "      <th>0</th>\n",
       "      <td>24.3</td>\n",
       "    </tr>\n",
       "  </tbody>\n",
       "</table>\n",
       "</div>"
      ],
      "text/plain": [
       "   avg_review\n",
       "0        24.3"
      ]
     },
     "execution_count": 12,
     "metadata": {},
     "output_type": "execute_result"
    }
   ],
   "source": [
    "query = \"\"\"WITH tmp AS (SELECT username,\n",
    "                               COUNT(rating_id) AS count_rating\n",
    "                        FROM ratings\n",
    "                        GROUP BY username\n",
    "                        HAVING COUNT(rating_id) > 50)\n",
    "                        \n",
    "            \n",
    "            SELECT ROUND(AVG(count_review), 1) AS avg_review\n",
    "            FROM (SELECT COUNT(review_id) AS count_review\n",
    "                  FROM reviews\n",
    "                  WHERE username IN (SELECT username FROM tmp)\n",
    "                  GROUP BY username) AS q\n",
    "        \"\"\"\n",
    "\n",
    "pd.io.sql.read_sql(query, con = engine)"
   ]
  },
  {
   "cell_type": "markdown",
   "metadata": {},
   "source": [
    "Вывод:\n",
    "* Среди пользователей, которые поставили более 50 оценок, среднее количество обзоров - 24.3"
   ]
  }
 ],
 "metadata": {
  "ExecuteTimeLog": [
   {
    "duration": 468,
    "start_time": "2022-04-18T15:55:05.540Z"
   },
   {
    "duration": 9803,
    "start_time": "2022-04-18T15:55:58.357Z"
   },
   {
    "duration": 41,
    "start_time": "2022-04-18T15:56:11.467Z"
   },
   {
    "duration": 2,
    "start_time": "2022-04-18T15:57:46.535Z"
   },
   {
    "duration": 12,
    "start_time": "2022-04-18T15:58:01.088Z"
   },
   {
    "duration": 2,
    "start_time": "2022-04-18T15:58:14.238Z"
   },
   {
    "duration": 19,
    "start_time": "2022-04-18T15:58:16.799Z"
   },
   {
    "duration": 18,
    "start_time": "2022-04-18T15:58:41.738Z"
   },
   {
    "duration": 16,
    "start_time": "2022-04-18T16:02:59.750Z"
   },
   {
    "duration": 18,
    "start_time": "2022-04-18T16:03:22.958Z"
   },
   {
    "duration": 662,
    "start_time": "2022-04-18T16:10:42.553Z"
   },
   {
    "duration": 11977,
    "start_time": "2022-04-18T16:10:43.217Z"
   },
   {
    "duration": 46,
    "start_time": "2022-04-18T16:10:55.195Z"
   },
   {
    "duration": 15,
    "start_time": "2022-04-18T16:10:55.244Z"
   },
   {
    "duration": 11,
    "start_time": "2022-04-18T16:10:55.261Z"
   },
   {
    "duration": 24,
    "start_time": "2022-04-18T16:10:55.274Z"
   },
   {
    "duration": 21,
    "start_time": "2022-04-18T16:10:55.300Z"
   },
   {
    "duration": 4,
    "start_time": "2022-04-18T16:10:55.322Z"
   },
   {
    "duration": 11,
    "start_time": "2022-04-18T16:14:07.684Z"
   },
   {
    "duration": 19,
    "start_time": "2022-04-18T16:14:22.870Z"
   },
   {
    "duration": 17,
    "start_time": "2022-04-18T16:15:01.830Z"
   },
   {
    "duration": 15,
    "start_time": "2022-04-18T16:16:03.480Z"
   },
   {
    "duration": 10,
    "start_time": "2022-04-18T16:16:17.792Z"
   },
   {
    "duration": 11,
    "start_time": "2022-04-18T16:16:54.384Z"
   },
   {
    "duration": 349,
    "start_time": "2022-04-18T16:23:20.751Z"
   },
   {
    "duration": 29,
    "start_time": "2022-04-18T16:23:52.761Z"
   },
   {
    "duration": 36,
    "start_time": "2022-04-18T16:24:47.705Z"
   },
   {
    "duration": 27,
    "start_time": "2022-04-18T16:25:00.739Z"
   },
   {
    "duration": 195,
    "start_time": "2022-04-18T16:30:20.577Z"
   },
   {
    "duration": 12,
    "start_time": "2022-04-18T16:31:05.855Z"
   },
   {
    "duration": 13,
    "start_time": "2022-04-18T16:32:33.264Z"
   },
   {
    "duration": 188,
    "start_time": "2022-04-18T16:34:34.436Z"
   },
   {
    "duration": 12,
    "start_time": "2022-04-18T16:34:43.260Z"
   },
   {
    "duration": 247,
    "start_time": "2022-04-18T16:37:04.390Z"
   },
   {
    "duration": 11,
    "start_time": "2022-04-18T16:37:55.313Z"
   },
   {
    "duration": 11,
    "start_time": "2022-04-18T16:40:15.379Z"
   },
   {
    "duration": 12,
    "start_time": "2022-04-18T16:40:46.140Z"
   },
   {
    "duration": 253,
    "start_time": "2022-04-18T16:43:19.801Z"
   },
   {
    "duration": 14,
    "start_time": "2022-04-18T16:43:34.601Z"
   },
   {
    "duration": 13,
    "start_time": "2022-04-18T16:43:50.081Z"
   },
   {
    "duration": 209,
    "start_time": "2022-04-18T16:51:27.668Z"
   },
   {
    "duration": 14,
    "start_time": "2022-04-18T16:51:36.339Z"
   },
   {
    "duration": 13,
    "start_time": "2022-04-18T16:53:29.335Z"
   },
   {
    "duration": 201,
    "start_time": "2022-04-18T16:55:19.978Z"
   },
   {
    "duration": 14,
    "start_time": "2022-04-18T16:55:40.213Z"
   },
   {
    "duration": 11,
    "start_time": "2022-04-18T16:56:46.763Z"
   },
   {
    "duration": 201,
    "start_time": "2022-04-18T16:59:31.848Z"
   },
   {
    "duration": 11,
    "start_time": "2022-04-18T17:00:06.265Z"
   },
   {
    "duration": 11,
    "start_time": "2022-04-18T17:01:11.155Z"
   },
   {
    "duration": 11,
    "start_time": "2022-04-18T17:01:51.354Z"
   },
   {
    "duration": 11,
    "start_time": "2022-04-18T17:03:18.533Z"
   },
   {
    "duration": 12,
    "start_time": "2022-04-18T17:04:41.343Z"
   },
   {
    "duration": 11,
    "start_time": "2022-04-18T17:05:51.377Z"
   },
   {
    "duration": 11,
    "start_time": "2022-04-18T17:06:45.432Z"
   },
   {
    "duration": 307,
    "start_time": "2022-04-18T17:07:13.048Z"
   },
   {
    "duration": 12,
    "start_time": "2022-04-18T17:07:36.827Z"
   },
   {
    "duration": 192,
    "start_time": "2022-04-18T17:14:28.228Z"
   },
   {
    "duration": 17,
    "start_time": "2022-04-18T17:14:45.420Z"
   },
   {
    "duration": 234,
    "start_time": "2022-04-18T17:19:01.315Z"
   },
   {
    "duration": 18,
    "start_time": "2022-04-18T17:19:05.362Z"
   },
   {
    "duration": 224,
    "start_time": "2022-04-18T17:19:34.122Z"
   },
   {
    "duration": 194,
    "start_time": "2022-04-18T17:19:54.174Z"
   },
   {
    "duration": 21,
    "start_time": "2022-04-18T17:20:13.982Z"
   },
   {
    "duration": 212,
    "start_time": "2022-04-18T17:23:37.224Z"
   },
   {
    "duration": 21,
    "start_time": "2022-04-18T17:23:51.451Z"
   },
   {
    "duration": 15,
    "start_time": "2022-04-18T17:24:20.257Z"
   },
   {
    "duration": 20,
    "start_time": "2022-04-18T17:24:28.098Z"
   },
   {
    "duration": 186,
    "start_time": "2022-04-18T17:27:35.424Z"
   },
   {
    "duration": 15,
    "start_time": "2022-04-18T17:27:47.338Z"
   },
   {
    "duration": 13,
    "start_time": "2022-04-18T17:29:16.937Z"
   },
   {
    "duration": 15,
    "start_time": "2022-04-18T17:29:54.545Z"
   },
   {
    "duration": 17,
    "start_time": "2022-04-18T17:30:43.449Z"
   },
   {
    "duration": 187,
    "start_time": "2022-04-18T17:32:24.684Z"
   },
   {
    "duration": 178,
    "start_time": "2022-04-18T17:32:32.510Z"
   },
   {
    "duration": 20,
    "start_time": "2022-04-18T17:33:40.367Z"
   },
   {
    "duration": 20,
    "start_time": "2022-04-18T17:35:55.784Z"
   },
   {
    "duration": 14,
    "start_time": "2022-04-18T17:36:14.193Z"
   },
   {
    "duration": 20,
    "start_time": "2022-04-18T17:36:53.536Z"
   },
   {
    "duration": 17,
    "start_time": "2022-04-18T17:37:08.084Z"
   },
   {
    "duration": 17,
    "start_time": "2022-04-18T17:38:38.115Z"
   },
   {
    "duration": 180,
    "start_time": "2022-04-18T17:39:44.279Z"
   },
   {
    "duration": 16,
    "start_time": "2022-04-18T17:40:14.434Z"
   },
   {
    "duration": 16,
    "start_time": "2022-04-18T17:40:54.840Z"
   },
   {
    "duration": 14,
    "start_time": "2022-04-18T17:42:12.499Z"
   },
   {
    "duration": 11,
    "start_time": "2022-04-18T17:44:11.717Z"
   },
   {
    "duration": 14,
    "start_time": "2022-04-18T17:45:33.817Z"
   },
   {
    "duration": 14,
    "start_time": "2022-04-18T17:45:59.823Z"
   },
   {
    "duration": 185,
    "start_time": "2022-04-18T17:46:19.776Z"
   },
   {
    "duration": 14,
    "start_time": "2022-04-18T17:46:42.074Z"
   },
   {
    "duration": 15,
    "start_time": "2022-04-18T17:47:22.082Z"
   },
   {
    "duration": 501,
    "start_time": "2022-04-18T17:47:29.075Z"
   },
   {
    "duration": 9195,
    "start_time": "2022-04-18T17:47:29.578Z"
   },
   {
    "duration": 53,
    "start_time": "2022-04-18T17:47:38.775Z"
   },
   {
    "duration": 11,
    "start_time": "2022-04-18T17:47:38.831Z"
   },
   {
    "duration": 10,
    "start_time": "2022-04-18T17:47:38.843Z"
   },
   {
    "duration": 23,
    "start_time": "2022-04-18T17:47:38.854Z"
   },
   {
    "duration": 16,
    "start_time": "2022-04-18T17:47:38.878Z"
   },
   {
    "duration": 4,
    "start_time": "2022-04-18T17:47:38.896Z"
   },
   {
    "duration": 10,
    "start_time": "2022-04-18T17:47:38.901Z"
   },
   {
    "duration": 23,
    "start_time": "2022-04-18T17:47:38.913Z"
   },
   {
    "duration": 10,
    "start_time": "2022-04-18T17:47:38.937Z"
   },
   {
    "duration": 12,
    "start_time": "2022-04-18T17:47:38.949Z"
   },
   {
    "duration": 11,
    "start_time": "2022-04-18T18:01:46.401Z"
   },
   {
    "duration": 10,
    "start_time": "2022-04-18T18:01:58.163Z"
   },
   {
    "duration": 508,
    "start_time": "2022-04-18T18:02:05.184Z"
   },
   {
    "duration": 9358,
    "start_time": "2022-04-18T18:02:05.694Z"
   },
   {
    "duration": 34,
    "start_time": "2022-04-18T18:02:15.053Z"
   },
   {
    "duration": 11,
    "start_time": "2022-04-18T18:02:15.089Z"
   },
   {
    "duration": 10,
    "start_time": "2022-04-18T18:02:15.101Z"
   },
   {
    "duration": 23,
    "start_time": "2022-04-18T18:02:15.112Z"
   },
   {
    "duration": 16,
    "start_time": "2022-04-18T18:02:15.137Z"
   },
   {
    "duration": 2,
    "start_time": "2022-04-18T18:02:15.155Z"
   },
   {
    "duration": 11,
    "start_time": "2022-04-18T18:02:15.159Z"
   },
   {
    "duration": 30,
    "start_time": "2022-04-18T18:02:15.172Z"
   },
   {
    "duration": 9,
    "start_time": "2022-04-18T18:02:15.204Z"
   },
   {
    "duration": 12,
    "start_time": "2022-04-18T18:02:15.215Z"
   },
   {
    "duration": 77,
    "start_time": "2022-04-19T15:02:47.293Z"
   },
   {
    "duration": 971,
    "start_time": "2022-04-19T15:03:24.704Z"
   },
   {
    "duration": 11451,
    "start_time": "2022-04-19T15:03:25.678Z"
   },
   {
    "duration": 269,
    "start_time": "2022-04-19T15:03:37.133Z"
   },
   {
    "duration": 76,
    "start_time": "2022-04-19T15:03:37.405Z"
   },
   {
    "duration": 72,
    "start_time": "2022-04-19T15:03:37.483Z"
   },
   {
    "duration": 102,
    "start_time": "2022-04-19T15:03:37.557Z"
   },
   {
    "duration": 88,
    "start_time": "2022-04-19T15:03:37.661Z"
   },
   {
    "duration": 4,
    "start_time": "2022-04-19T15:03:37.751Z"
   },
   {
    "duration": 77,
    "start_time": "2022-04-19T15:03:37.757Z"
   },
   {
    "duration": 85,
    "start_time": "2022-04-19T15:03:37.839Z"
   },
   {
    "duration": 72,
    "start_time": "2022-04-19T15:03:37.927Z"
   },
   {
    "duration": 75,
    "start_time": "2022-04-19T15:03:38.002Z"
   },
   {
    "duration": 315,
    "start_time": "2022-04-19T15:03:38.080Z"
   },
   {
    "duration": 0,
    "start_time": "2022-04-19T15:03:38.398Z"
   },
   {
    "duration": 654,
    "start_time": "2022-04-19T15:05:48.614Z"
   },
   {
    "duration": 318,
    "start_time": "2022-04-19T15:06:25.005Z"
   },
   {
    "duration": 71,
    "start_time": "2022-04-19T15:06:40.927Z"
   },
   {
    "duration": 76,
    "start_time": "2022-04-19T15:06:47.860Z"
   },
   {
    "duration": 73,
    "start_time": "2022-04-19T15:08:22.293Z"
   },
   {
    "duration": 65,
    "start_time": "2022-04-19T15:09:28.545Z"
   },
   {
    "duration": 74,
    "start_time": "2022-04-19T15:15:27.846Z"
   },
   {
    "duration": 72,
    "start_time": "2022-04-19T15:18:31.703Z"
   },
   {
    "duration": 69,
    "start_time": "2022-04-19T15:20:11.067Z"
   },
   {
    "duration": 69,
    "start_time": "2022-04-19T15:20:45.764Z"
   },
   {
    "duration": 886,
    "start_time": "2022-04-19T15:24:00.250Z"
   },
   {
    "duration": 7643,
    "start_time": "2022-04-19T15:24:01.140Z"
   },
   {
    "duration": 230,
    "start_time": "2022-04-19T15:24:08.786Z"
   },
   {
    "duration": 65,
    "start_time": "2022-04-19T15:24:09.019Z"
   },
   {
    "duration": 65,
    "start_time": "2022-04-19T15:24:09.088Z"
   },
   {
    "duration": 98,
    "start_time": "2022-04-19T15:24:09.155Z"
   },
   {
    "duration": 80,
    "start_time": "2022-04-19T15:24:09.255Z"
   },
   {
    "duration": 5,
    "start_time": "2022-04-19T15:24:09.338Z"
   },
   {
    "duration": 67,
    "start_time": "2022-04-19T15:24:09.345Z"
   },
   {
    "duration": 79,
    "start_time": "2022-04-19T15:24:09.415Z"
   },
   {
    "duration": 63,
    "start_time": "2022-04-19T15:24:09.496Z"
   },
   {
    "duration": 67,
    "start_time": "2022-04-19T15:24:09.561Z"
   },
   {
    "duration": 67,
    "start_time": "2022-04-19T15:24:09.631Z"
   },
   {
    "duration": 62,
    "start_time": "2022-04-19T15:24:09.700Z"
   },
   {
    "duration": 67,
    "start_time": "2022-04-19T15:26:28.010Z"
   },
   {
    "duration": 312,
    "start_time": "2022-04-19T15:29:20.101Z"
   },
   {
    "duration": 982,
    "start_time": "2022-04-19T15:29:59.272Z"
   },
   {
    "duration": 72,
    "start_time": "2022-04-19T15:30:32.400Z"
   },
   {
    "duration": 71,
    "start_time": "2022-04-19T15:30:57.905Z"
   },
   {
    "duration": 76,
    "start_time": "2022-04-19T15:32:48.716Z"
   },
   {
    "duration": 64,
    "start_time": "2022-04-19T15:34:52.454Z"
   },
   {
    "duration": 241,
    "start_time": "2022-04-19T15:35:50.672Z"
   },
   {
    "duration": 72,
    "start_time": "2022-04-19T15:37:41.787Z"
   },
   {
    "duration": 66,
    "start_time": "2022-04-19T15:38:13.785Z"
   },
   {
    "duration": 64,
    "start_time": "2022-04-19T15:38:46.994Z"
   },
   {
    "duration": 627,
    "start_time": "2022-04-19T15:38:52.865Z"
   },
   {
    "duration": 7264,
    "start_time": "2022-04-19T15:38:53.494Z"
   },
   {
    "duration": 242,
    "start_time": "2022-04-19T15:39:00.760Z"
   },
   {
    "duration": 70,
    "start_time": "2022-04-19T15:39:01.006Z"
   },
   {
    "duration": 66,
    "start_time": "2022-04-19T15:39:01.078Z"
   },
   {
    "duration": 112,
    "start_time": "2022-04-19T15:39:01.146Z"
   },
   {
    "duration": 89,
    "start_time": "2022-04-19T15:39:01.260Z"
   },
   {
    "duration": 5,
    "start_time": "2022-04-19T15:39:01.352Z"
   },
   {
    "duration": 72,
    "start_time": "2022-04-19T15:39:01.359Z"
   },
   {
    "duration": 84,
    "start_time": "2022-04-19T15:39:01.435Z"
   },
   {
    "duration": 64,
    "start_time": "2022-04-19T15:39:01.522Z"
   },
   {
    "duration": 68,
    "start_time": "2022-04-19T15:39:01.589Z"
   },
   {
    "duration": 64,
    "start_time": "2022-04-19T15:39:01.660Z"
   },
   {
    "duration": 64,
    "start_time": "2022-04-19T15:40:40.431Z"
   },
   {
    "duration": 64,
    "start_time": "2022-04-19T15:41:59.744Z"
   },
   {
    "duration": 72,
    "start_time": "2022-04-19T15:42:42.639Z"
   },
   {
    "duration": 65,
    "start_time": "2022-04-19T15:42:57.628Z"
   },
   {
    "duration": 306,
    "start_time": "2022-04-19T15:45:54.497Z"
   },
   {
    "duration": 94,
    "start_time": "2022-04-19T15:46:17.624Z"
   },
   {
    "duration": 101,
    "start_time": "2022-04-19T15:46:24.297Z"
   },
   {
    "duration": 93,
    "start_time": "2022-04-19T15:47:24.194Z"
   },
   {
    "duration": 720,
    "start_time": "2022-04-19T15:55:14.437Z"
   },
   {
    "duration": 9900,
    "start_time": "2022-04-19T15:55:15.160Z"
   },
   {
    "duration": 238,
    "start_time": "2022-04-19T15:55:25.062Z"
   },
   {
    "duration": 71,
    "start_time": "2022-04-19T15:55:25.303Z"
   },
   {
    "duration": 69,
    "start_time": "2022-04-19T15:55:25.378Z"
   },
   {
    "duration": 97,
    "start_time": "2022-04-19T15:55:25.449Z"
   },
   {
    "duration": 83,
    "start_time": "2022-04-19T15:55:25.549Z"
   },
   {
    "duration": 63,
    "start_time": "2022-04-19T15:55:25.634Z"
   },
   {
    "duration": 82,
    "start_time": "2022-04-19T15:55:25.699Z"
   },
   {
    "duration": 70,
    "start_time": "2022-04-19T15:55:25.783Z"
   },
   {
    "duration": 65,
    "start_time": "2022-04-19T15:55:25.856Z"
   },
   {
    "duration": 68,
    "start_time": "2022-04-19T15:55:25.923Z"
   },
   {
    "duration": 749,
    "start_time": "2022-04-19T15:57:28.860Z"
   },
   {
    "duration": 9276,
    "start_time": "2022-04-19T15:57:29.612Z"
   },
   {
    "duration": 252,
    "start_time": "2022-04-19T15:57:38.890Z"
   },
   {
    "duration": 69,
    "start_time": "2022-04-19T15:57:39.145Z"
   },
   {
    "duration": 72,
    "start_time": "2022-04-19T15:57:39.217Z"
   },
   {
    "duration": 101,
    "start_time": "2022-04-19T15:57:39.292Z"
   },
   {
    "duration": 87,
    "start_time": "2022-04-19T15:57:39.395Z"
   },
   {
    "duration": 73,
    "start_time": "2022-04-19T15:57:39.484Z"
   },
   {
    "duration": 91,
    "start_time": "2022-04-19T15:57:39.559Z"
   },
   {
    "duration": 67,
    "start_time": "2022-04-19T15:57:39.654Z"
   },
   {
    "duration": 73,
    "start_time": "2022-04-19T15:57:39.724Z"
   },
   {
    "duration": 77,
    "start_time": "2022-04-19T15:57:39.800Z"
   },
   {
    "duration": 73,
    "start_time": "2022-04-19T16:01:02.708Z"
   },
   {
    "duration": 72,
    "start_time": "2022-04-19T16:02:08.188Z"
   },
   {
    "duration": 328,
    "start_time": "2022-04-19T16:03:23.374Z"
   },
   {
    "duration": 79,
    "start_time": "2022-04-19T16:03:28.694Z"
   },
   {
    "duration": 734,
    "start_time": "2022-04-19T16:03:35.032Z"
   },
   {
    "duration": 8971,
    "start_time": "2022-04-19T16:03:35.769Z"
   },
   {
    "duration": 276,
    "start_time": "2022-04-19T16:03:44.745Z"
   },
   {
    "duration": 78,
    "start_time": "2022-04-19T16:03:45.032Z"
   },
   {
    "duration": 79,
    "start_time": "2022-04-19T16:03:45.113Z"
   },
   {
    "duration": 109,
    "start_time": "2022-04-19T16:03:45.194Z"
   },
   {
    "duration": 94,
    "start_time": "2022-04-19T16:03:45.306Z"
   },
   {
    "duration": 99,
    "start_time": "2022-04-19T16:03:45.403Z"
   },
   {
    "duration": 92,
    "start_time": "2022-04-19T16:03:45.504Z"
   },
   {
    "duration": 74,
    "start_time": "2022-04-19T16:03:45.601Z"
   },
   {
    "duration": 73,
    "start_time": "2022-04-19T16:03:45.678Z"
   },
   {
    "duration": 69,
    "start_time": "2022-04-19T16:03:45.755Z"
   },
   {
    "duration": 78,
    "start_time": "2022-04-19T16:04:17.575Z"
   },
   {
    "duration": 308,
    "start_time": "2022-04-19T16:05:32.704Z"
   },
   {
    "duration": 83,
    "start_time": "2022-04-19T16:05:39.375Z"
   },
   {
    "duration": 76,
    "start_time": "2022-04-19T16:07:38.020Z"
   },
   {
    "duration": 220,
    "start_time": "2022-04-19T16:13:26.935Z"
   },
   {
    "duration": 67,
    "start_time": "2022-04-19T16:13:33.252Z"
   },
   {
    "duration": 216,
    "start_time": "2022-04-19T16:15:06.654Z"
   },
   {
    "duration": 73,
    "start_time": "2022-04-19T16:15:28.494Z"
   },
   {
    "duration": 774,
    "start_time": "2022-04-19T16:18:04.803Z"
   },
   {
    "duration": 71,
    "start_time": "2022-04-19T16:18:26.228Z"
   },
   {
    "duration": 82,
    "start_time": "2022-04-19T16:23:24.803Z"
   },
   {
    "duration": 71,
    "start_time": "2022-04-19T16:26:28.568Z"
   },
   {
    "duration": 82,
    "start_time": "2022-04-19T16:27:32.808Z"
   },
   {
    "duration": 703,
    "start_time": "2022-04-19T16:28:33.530Z"
   },
   {
    "duration": 7838,
    "start_time": "2022-04-19T16:28:34.238Z"
   },
   {
    "duration": 233,
    "start_time": "2022-04-19T16:28:42.079Z"
   },
   {
    "duration": 75,
    "start_time": "2022-04-19T16:28:42.315Z"
   },
   {
    "duration": 68,
    "start_time": "2022-04-19T16:28:42.392Z"
   },
   {
    "duration": 97,
    "start_time": "2022-04-19T16:28:42.463Z"
   },
   {
    "duration": 90,
    "start_time": "2022-04-19T16:28:42.563Z"
   },
   {
    "duration": 64,
    "start_time": "2022-04-19T16:28:42.656Z"
   },
   {
    "duration": 84,
    "start_time": "2022-04-19T16:28:42.722Z"
   },
   {
    "duration": 72,
    "start_time": "2022-04-19T16:28:42.809Z"
   },
   {
    "duration": 64,
    "start_time": "2022-04-19T16:28:42.884Z"
   },
   {
    "duration": 64,
    "start_time": "2022-04-19T16:28:42.951Z"
   },
   {
    "duration": 510,
    "start_time": "2022-04-19T21:24:01.249Z"
   },
   {
    "duration": 6677,
    "start_time": "2022-04-19T21:24:01.762Z"
   },
   {
    "duration": 216,
    "start_time": "2022-04-19T21:24:08.441Z"
   },
   {
    "duration": 60,
    "start_time": "2022-04-19T21:24:08.660Z"
   },
   {
    "duration": 62,
    "start_time": "2022-04-19T21:24:08.722Z"
   },
   {
    "duration": 90,
    "start_time": "2022-04-19T21:24:08.786Z"
   },
   {
    "duration": 82,
    "start_time": "2022-04-19T21:24:08.879Z"
   },
   {
    "duration": 61,
    "start_time": "2022-04-19T21:24:08.963Z"
   },
   {
    "duration": 80,
    "start_time": "2022-04-19T21:24:09.027Z"
   },
   {
    "duration": 63,
    "start_time": "2022-04-19T21:24:09.111Z"
   },
   {
    "duration": 63,
    "start_time": "2022-04-19T21:24:09.176Z"
   },
   {
    "duration": 60,
    "start_time": "2022-04-19T21:24:09.241Z"
   },
   {
    "duration": 91,
    "start_time": "2022-04-19T21:24:53.567Z"
   },
   {
    "duration": 839,
    "start_time": "2022-04-19T21:25:21.910Z"
   },
   {
    "duration": 89,
    "start_time": "2022-04-19T21:25:29.269Z"
   },
   {
    "duration": 89,
    "start_time": "2022-04-19T21:25:48.832Z"
   },
   {
    "duration": 86,
    "start_time": "2022-04-19T21:25:52.837Z"
   },
   {
    "duration": 518,
    "start_time": "2022-04-20T15:48:58.619Z"
   },
   {
    "duration": 9279,
    "start_time": "2022-04-20T15:48:59.139Z"
   },
   {
    "duration": 41,
    "start_time": "2022-04-20T15:49:08.420Z"
   },
   {
    "duration": 12,
    "start_time": "2022-04-20T15:49:08.463Z"
   },
   {
    "duration": 11,
    "start_time": "2022-04-20T15:49:08.477Z"
   },
   {
    "duration": 24,
    "start_time": "2022-04-20T15:49:08.489Z"
   },
   {
    "duration": 18,
    "start_time": "2022-04-20T15:49:08.515Z"
   },
   {
    "duration": 11,
    "start_time": "2022-04-20T15:49:08.534Z"
   },
   {
    "duration": 26,
    "start_time": "2022-04-20T15:49:08.546Z"
   },
   {
    "duration": 11,
    "start_time": "2022-04-20T15:49:08.574Z"
   },
   {
    "duration": 13,
    "start_time": "2022-04-20T15:49:08.587Z"
   },
   {
    "duration": 13,
    "start_time": "2022-04-20T15:49:08.602Z"
   },
   {
    "duration": 246,
    "start_time": "2022-04-20T15:52:11.774Z"
   },
   {
    "duration": 305,
    "start_time": "2022-04-20T15:52:20.410Z"
   },
   {
    "duration": 14,
    "start_time": "2022-04-20T15:54:20.540Z"
   },
   {
    "duration": 14,
    "start_time": "2022-04-20T15:56:09.956Z"
   },
   {
    "duration": 15,
    "start_time": "2022-04-20T15:58:21.326Z"
   },
   {
    "duration": 19,
    "start_time": "2022-04-20T16:06:03.971Z"
   },
   {
    "duration": 11,
    "start_time": "2022-04-20T16:06:38.956Z"
   },
   {
    "duration": 188,
    "start_time": "2022-04-20T16:10:13.313Z"
   },
   {
    "duration": 178,
    "start_time": "2022-04-20T16:10:25.026Z"
   },
   {
    "duration": 14,
    "start_time": "2022-04-20T16:10:55.636Z"
   },
   {
    "duration": 17,
    "start_time": "2022-04-20T16:11:07.579Z"
   },
   {
    "duration": 198,
    "start_time": "2022-04-20T16:17:01.629Z"
   },
   {
    "duration": 20,
    "start_time": "2022-04-20T16:17:44.239Z"
   },
   {
    "duration": 188,
    "start_time": "2022-04-20T16:19:13.920Z"
   },
   {
    "duration": 22,
    "start_time": "2022-04-20T16:19:35.624Z"
   },
   {
    "duration": 22,
    "start_time": "2022-04-20T16:20:17.575Z"
   },
   {
    "duration": 21,
    "start_time": "2022-04-20T16:20:45.778Z"
   },
   {
    "duration": 21,
    "start_time": "2022-04-20T16:20:54.802Z"
   },
   {
    "duration": 23,
    "start_time": "2022-04-20T16:24:51.158Z"
   },
   {
    "duration": 25,
    "start_time": "2022-04-20T16:25:35.246Z"
   },
   {
    "duration": 27,
    "start_time": "2022-04-20T16:26:57.746Z"
   },
   {
    "duration": 26,
    "start_time": "2022-04-20T16:27:12.706Z"
   },
   {
    "duration": 24,
    "start_time": "2022-04-20T16:39:33.828Z"
   },
   {
    "duration": 11,
    "start_time": "2022-04-20T16:40:19.765Z"
   },
   {
    "duration": 566,
    "start_time": "2022-04-20T17:23:09.997Z"
   },
   {
    "duration": 9170,
    "start_time": "2022-04-20T17:23:10.565Z"
   },
   {
    "duration": 44,
    "start_time": "2022-04-20T17:23:19.737Z"
   },
   {
    "duration": 13,
    "start_time": "2022-04-20T17:23:19.783Z"
   },
   {
    "duration": 27,
    "start_time": "2022-04-20T17:23:19.797Z"
   },
   {
    "duration": 35,
    "start_time": "2022-04-20T17:23:19.826Z"
   },
   {
    "duration": 26,
    "start_time": "2022-04-20T17:23:19.863Z"
   },
   {
    "duration": 13,
    "start_time": "2022-04-20T17:23:19.892Z"
   },
   {
    "duration": 25,
    "start_time": "2022-04-20T17:23:19.907Z"
   },
   {
    "duration": 24,
    "start_time": "2022-04-20T17:23:19.934Z"
   },
   {
    "duration": 14,
    "start_time": "2022-04-20T17:23:19.961Z"
   },
   {
    "duration": 22,
    "start_time": "2022-04-20T17:23:19.977Z"
   },
   {
    "duration": 22,
    "start_time": "2022-04-20T17:23:20.000Z"
   },
   {
    "duration": 525,
    "start_time": "2022-04-20T17:26:22.979Z"
   },
   {
    "duration": 9150,
    "start_time": "2022-04-20T17:26:23.507Z"
   },
   {
    "duration": 38,
    "start_time": "2022-04-20T17:26:32.659Z"
   },
   {
    "duration": 16,
    "start_time": "2022-04-20T17:26:32.700Z"
   },
   {
    "duration": 11,
    "start_time": "2022-04-20T17:26:32.718Z"
   },
   {
    "duration": 24,
    "start_time": "2022-04-20T17:26:32.731Z"
   },
   {
    "duration": 26,
    "start_time": "2022-04-20T17:26:32.757Z"
   },
   {
    "duration": 10,
    "start_time": "2022-04-20T17:26:32.785Z"
   },
   {
    "duration": 20,
    "start_time": "2022-04-20T17:26:32.797Z"
   },
   {
    "duration": 13,
    "start_time": "2022-04-20T17:26:32.822Z"
   },
   {
    "duration": 16,
    "start_time": "2022-04-20T17:26:32.837Z"
   },
   {
    "duration": 13,
    "start_time": "2022-04-20T17:26:32.855Z"
   },
   {
    "duration": 12,
    "start_time": "2022-04-20T17:26:32.869Z"
   },
   {
    "duration": 53,
    "start_time": "2022-04-21T10:01:18.533Z"
   },
   {
    "duration": 551,
    "start_time": "2022-04-21T10:01:30.387Z"
   },
   {
    "duration": 8008,
    "start_time": "2022-04-21T10:01:30.940Z"
   },
   {
    "duration": 244,
    "start_time": "2022-04-21T10:01:38.950Z"
   },
   {
    "duration": 68,
    "start_time": "2022-04-21T10:01:39.196Z"
   },
   {
    "duration": 66,
    "start_time": "2022-04-21T10:01:39.266Z"
   },
   {
    "duration": 97,
    "start_time": "2022-04-21T10:01:39.333Z"
   },
   {
    "duration": 81,
    "start_time": "2022-04-21T10:01:39.432Z"
   },
   {
    "duration": 67,
    "start_time": "2022-04-21T10:01:39.514Z"
   },
   {
    "duration": 76,
    "start_time": "2022-04-21T10:01:39.583Z"
   },
   {
    "duration": 66,
    "start_time": "2022-04-21T10:01:39.662Z"
   },
   {
    "duration": 67,
    "start_time": "2022-04-21T10:01:39.730Z"
   },
   {
    "duration": 70,
    "start_time": "2022-04-21T10:01:39.799Z"
   },
   {
    "duration": 68,
    "start_time": "2022-04-21T10:01:39.870Z"
   }
  ],
  "kernelspec": {
   "display_name": "Python 3 (ipykernel)",
   "language": "python",
   "name": "python3"
  },
  "language_info": {
   "codemirror_mode": {
    "name": "ipython",
    "version": 3
   },
   "file_extension": ".py",
   "mimetype": "text/x-python",
   "name": "python",
   "nbconvert_exporter": "python",
   "pygments_lexer": "ipython3",
   "version": "3.8.12"
  },
  "toc": {
   "base_numbering": 1,
   "nav_menu": {},
   "number_sections": false,
   "sideBar": true,
   "skip_h1_title": false,
   "title_cell": "Table of Contents",
   "title_sidebar": "Contents",
   "toc_cell": false,
   "toc_position": {
    "height": "calc(100% - 180px)",
    "left": "10px",
    "top": "150px",
    "width": "266.956px"
   },
   "toc_section_display": true,
   "toc_window_display": true
  }
 },
 "nbformat": 4,
 "nbformat_minor": 2
}
